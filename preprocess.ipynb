{
 "cells": [
  {
   "cell_type": "code",
   "execution_count": 1,
   "metadata": {
    "collapsed": true
   },
   "outputs": [],
   "source": [
    "phish_img_dir = r\"E:\\VisualPhish\\VisualPhish\\phishing\"\n",
    "trusted_img_dir = r\"E:\\VisualPhish\\VisualPhish\\trusted_list\"\n",
    "benign_test_img_dir = r\"E:\\VisualPhish\\VisualPhish\\benign_test\""
   ]
  },
  {
   "cell_type": "code",
   "execution_count": 30,
   "outputs": [],
   "source": [
    "import os\n",
    "\n",
    "\n",
    "def list_files(root_path):\n",
    "    sub_dir = os.listdir(root_path)\n",
    "    files = []\n",
    "    for sub in sub_dir:\n",
    "        if os.path.isfile(os.path.join(root_path, sub)):\n",
    "            continue\n",
    "        for item in os.listdir(os.path.join(root_path, sub)):\n",
    "            files.append(os.path.join(root_path, sub, item))\n",
    "    return files\n",
    "def create_dataset(source_file_path,target_file_path):\n",
    "    import shutil\n",
    "    files_path = list_files(source_file_path)\n",
    "    for item in files_path:\n",
    "        file_name = item.split(\"\\\\\")[-1]\n",
    "        shutil.copy(item,os.path.join(target_file_path,file_name))"
   ],
   "metadata": {
    "collapsed": false,
    "pycharm": {
     "name": "#%%\n"
    }
   }
  },
  {
   "cell_type": "code",
   "execution_count": 1,
   "outputs": [],
   "source": [
    "bengin = r\"D:\\dataset\\phish\\bengin\"\n",
    "phish = r\"D:\\dataset\\phish\\phish\""
   ],
   "metadata": {
    "collapsed": false,
    "pycharm": {
     "name": "#%%\n"
    }
   }
  },
  {
   "cell_type": "code",
   "execution_count": 3,
   "outputs": [],
   "source": [
    "from torch.utils.data import TensorDataset, DataLoader\n",
    "import pandas as pd\n",
    "import numpy as np\n",
    "import scipy\n",
    "import imageio\n",
    "\n",
    "img = imageio.imread(r\"D:\\dataset\\phish\\phish\\144_2.jpg\")"
   ],
   "metadata": {
    "collapsed": false,
    "pycharm": {
     "name": "#%%\n"
    }
   }
  },
  {
   "cell_type": "code",
   "execution_count": 5,
   "outputs": [
    {
     "data": {
      "text/plain": "(659, 977, 3)"
     },
     "execution_count": 5,
     "metadata": {},
     "output_type": "execute_result"
    }
   ],
   "source": [
    "img.shape"
   ],
   "metadata": {
    "collapsed": false,
    "pycharm": {
     "name": "#%%\n"
    }
   }
  }
 ],
 "metadata": {
  "kernelspec": {
   "display_name": "Python 3",
   "language": "python",
   "name": "python3"
  },
  "language_info": {
   "codemirror_mode": {
    "name": "ipython",
    "version": 2
   },
   "file_extension": ".py",
   "mimetype": "text/x-python",
   "name": "python",
   "nbconvert_exporter": "python",
   "pygments_lexer": "ipython2",
   "version": "2.7.6"
  }
 },
 "nbformat": 4,
 "nbformat_minor": 0
}